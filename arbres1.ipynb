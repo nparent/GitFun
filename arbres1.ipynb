{
 "cells": [
  {
   "cell_type": "code",
   "execution_count": 1,
   "id": "8bd50ad7-9d01-47dc-8c0a-778bf65ee3cf",
   "metadata": {
    "tags": []
   },
   "outputs": [],
   "source": [
    "import csv"
   ]
  },
  {
   "cell_type": "code",
   "execution_count": 2,
   "id": "5e2047e8-dab2-4ae1-b4b8-daec71375999",
   "metadata": {
    "tags": []
   },
   "outputs": [
    {
     "data": {
      "text/plain": [
       "['excel', 'excel-tab', 'unix']"
      ]
     },
     "execution_count": 2,
     "metadata": {},
     "output_type": "execute_result"
    }
   ],
   "source": [
    "#extraire data from files\n",
    "csv.list_dialects()"
   ]
  },
  {
   "cell_type": "code",
   "execution_count": 3,
   "id": "5f3d8b6a-f14f-4e54-8fcb-bd5d97e99272",
   "metadata": {
    "tags": []
   },
   "outputs": [],
   "source": [
    "#Extraire l’ensemble des lignes (rows) et stocker ces informations dans une variable de type List\n",
    "liste_fichier = []\n",
    "with open(\"../data/trees.csv\",'r') as fichier_csv:\n",
    "    lecteur_csv = csv.reader(fichier_csv)\n",
    "    for ligne in lecteur_csv:\n",
    "        liste_fichier.append(ligne)"
   ]
  },
  {
   "cell_type": "code",
   "execution_count": 4,
   "id": "8220d30c-fe26-4bd3-96e3-530565751677",
   "metadata": {
    "tags": []
   },
   "outputs": [
    {
     "name": "stdout",
     "output_type": "stream",
     "text": [
      "['\\ufeffELEM_POINT_ID', 'CODE', 'NOM', 'GENRE', 'GENRE_DESC', 'CATEGORIE', 'CATEGORIE_DESC', 'SOUS_CATEGORIE', 'SOUS_CATEGORIE_DESC', 'CODE_PARENT', 'CODE_PARENT_DESC', 'ADR_SECTEUR', 'BIEN_REFERENCE', 'GENRE_BOTA', 'ESPECE', 'VARIETE', 'STADEDEDEVELOPPEMENT', 'EQUIPE', 'REMARQUES', 'ANNEEDEPLANTATION', 'RAISONDEPLANTATION', 'TRAITEMENTCHENILLES', 'COURRIER', 'IDENTIFIANTPLU', 'TYPEIMPLANTATIONPLU', 'INTITULEPROTECTIONPLU', 'ANNEEABATTAGE', 'ESSOUCHEMENT', 'DIAMETREARBRE', 'CAUSEABATTAGE', 'COLLECTIVITE', 'GeoJSON']\n",
      "['37993', 'ESP37969', 'ESP37969', 'VEG', 'VEGETATION', 'ESP01', 'Arbre', 'ESP065', \"Arbre d'enceintes fermées\", 'ESP37898', 'Maison des Collines Jard Poisat', '6', 'AR37969', '', '', '', '', '', '', '', '', '', '', '', '', '', '', '', '', '', '', '{\"type\":\"Point\",\"coordinates\":[5.76034690089422,45.1543159441061]}']\n"
     ]
    }
   ],
   "source": [
    "#Afficher les deux premières lignes de ce csv\n",
    "with open(\"../data/trees.csv\",'r') as fichier_csv:\n",
    "    lecteur_csv = csv.reader(fichier_csv)\n",
    "    print(next(lecteur_csv))\n",
    "    print(next(lecteur_csv))\n",
    "    "
   ]
  },
  {
   "cell_type": "code",
   "execution_count": 5,
   "id": "6f05617b-b7b8-45b7-b05a-3c9ba8142434",
   "metadata": {},
   "outputs": [
    {
     "name": "stdout",
     "output_type": "stream",
     "text": [
      "CODE\n",
      "ESP37969\n"
     ]
    }
   ],
   "source": [
    "#Afficher la 2ème colonne de chacune de ces deux lignes\n",
    "with open(\"../data/trees.csv\",'r') as fichier_csv:\n",
    "    lecteur_csv = csv.reader(fichier_csv)\n",
    "    print(next(lecteur_csv)[1])\n",
    "    print(next(lecteur_csv)[1])"
   ]
  },
  {
   "cell_type": "code",
   "execution_count": 6,
   "id": "1fd16e30-f01d-4161-8aed-07c5aae3dc52",
   "metadata": {},
   "outputs": [
    {
     "name": "stdout",
     "output_type": "stream",
     "text": [
      "indice colonne information année de planatation :  19\n",
      "['2017', '2017', '2017', '2017', '2017', '2017', '2017', '2017', '2017', '2017', '2017', '2017', '2017', '2017', '2017', '2017', '2017', '2017', '2017', '2017', '2017', '2017', '2017', '2017', '2017', '2017', '2017', '2017', '2017', '2017', '2017', '2017', '2017', '2017', '2017', '2017', '2017', '2017', '2017', '2017', '2017', '2017', '2017', '2017', '2017', '2017', '2017', '2017', '2017', '2017']\n",
      "['1975', '1975', '1975', '1975', '1975', '1975', '1975', '1975', '1975', '1975', '1975', '1975', '1975', '1975', '1975', '1975', '1975', '1975', '1975', '1975', '1975', '2017', '2017', '2001', '2001', '2001', '2001', '2001', '2001', '2001', '2001', '2001', '2001', '2001', '2001', '2001', '2001', '2001', '2001', '2001', '2001', '2001', '2001', '2001', '2001', '2001', '2001', '2001', '2001', '2001']\n",
      "nombre d'arbres recenses :  31243\n",
      "nombre d'arbres recensés :  442\n",
      "nombre d'arbres recensés :  442\n"
     ]
    }
   ],
   "source": [
    "#Extraire l’information concernant l’année de plantation pour l’ensemble des\n",
    "#lignes (rows) et stocker ces informations dans une autre variable de type List\n",
    "\n",
    "#Trouver indice de la colonne avec cette information\n",
    "with open(\"../data/trees.csv\",'r') as fichier_csv:\n",
    "    lecteur_csv = csv.reader(fichier_csv)\n",
    "    indice_colonne= next(lecteur_csv).index('ANNEEDEPLANTATION')\n",
    "    print(\"indice colonne information année de planatation : \",indice_colonne)\n",
    "\n",
    "liste_plantation = [ligne[indice_colonne] for ligne in liste_fichier[1:]]\n",
    "#Liste avec suppressions des données vide\n",
    "liste_annee_plantation = [ligne[indice_colonne] for ligne in liste_fichier[1:] if ligne[indice_colonne]]\n",
    "\n",
    "#Afficher les 50 premières lignes et les 50 dernières lignes de cette liste.\n",
    "print(liste_annee_plantation[:50])\n",
    "print(liste_annee_plantation[-50:])\n",
    "\n",
    "#Combien d’arbres sont recensés dans ce jeu de données ?\n",
    "nombre_arbres_recenses = len(liste_plantation)\n",
    "print(\"nombre d'arbres recenses : \", nombre_arbres_recenses)\n",
    "\n",
    "#Pour combien d’arbres manque-t-il l’information concernant la date de\n",
    "#plantation ?\n",
    "arbres_sans_date = nombre_arbres_recenses - len(liste_annee_plantation)\n",
    "print(\"nombre d'arbres recensés : \", arbres_sans_date)\n",
    "#seconde méthode\n",
    "arbres_sans_date = liste_plantation[:].count('')\n",
    "print(\"nombre d'arbres recensés : \", arbres_sans_date)"
   ]
  },
  {
   "cell_type": "code",
   "execution_count": 7,
   "id": "66b92036-9056-492a-ab10-1eb886dd3cd8",
   "metadata": {},
   "outputs": [
    {
     "name": "stdout",
     "output_type": "stream",
     "text": [
      "771\n"
     ]
    }
   ],
   "source": [
    "#Combien d’arbres ont été plantés l’année de votre naissance ?\n",
    "arbres_1987 = liste_plantation.count('1987')\n",
    "print(arbres_1987)"
   ]
  },
  {
   "cell_type": "code",
   "execution_count": 8,
   "id": "e04f8b00-f57e-4efb-a7df-60ee972a979c",
   "metadata": {},
   "outputs": [
    {
     "name": "stdout",
     "output_type": "stream",
     "text": [
      "1950\n",
      "2017\n"
     ]
    }
   ],
   "source": [
    "#Quelle est la plus ancienne année de plantation recensée dans ce dataset ?\n",
    "min_annee_recensee = int(min(liste_annee_plantation))\n",
    "print(min_annee_recensee)\n",
    "#La plus récente\n",
    "max_annee_recensee = int(max(liste_annee_plantation))\n",
    "print(max_annee_recensee)"
   ]
  },
  {
   "cell_type": "code",
   "execution_count": 9,
   "id": "efa99dad-8adf-49d9-af8a-6401e16c4a47",
   "metadata": {},
   "outputs": [
    {
     "name": "stdout",
     "output_type": "stream",
     "text": [
      "[1950, 1951, 1952, 1953, 1954, 1955, 1956, 1957, 1958, 1959, 1960, 1961, 1962, 1963, 1964, 1965, 1966, 1967, 1968, 1969, 1970, 1971, 1972, 1973, 1974, 1975, 1976, 1977, 1978, 1979, 1980, 1981, 1982, 1983, 1984, 1985, 1986, 1987, 1988, 1989, 1990, 1991, 1992, 1993, 1994, 1995, 1996, 1997, 1998, 1999, 2000, 2001, 2002, 2003, 2004, 2005, 2006, 2007, 2008, 2009, 2010, 2011, 2012, 2013, 2014, 2015, 2016, 2017]\n",
      "[422, 0, 0, 0, 0, 66, 0, 0, 0, 0, 745, 27, 0, 0, 7, 760, 95, 57, 116, 350, 1444, 75, 364, 34, 350, 3922, 972, 616, 912, 361, 1528, 644, 448, 333, 666, 990, 238, 771, 266, 307, 433, 146, 226, 161, 288, 781, 385, 238, 220, 603, 461, 1626, 341, 352, 352, 450, 616, 155, 219, 696, 467, 530, 338, 335, 881, 996, 347, 272]\n",
      "[422, 0, 0, 0, 0, 66, 0, 0, 0, 0, 745, 27, 0, 0, 7, 760, 95, 57, 116, 350, 1444, 75, 364, 34, 350, 3922, 972, 616, 912, 361, 1528, 644, 448, 333, 666, 990, 238, 771, 266, 307, 433, 146, 226, 161, 288, 781, 385, 238, 220, 603, 461, 1626, 341, 352, 352, 450, 616, 155, 219, 696, 467, 530, 338, 335, 881, 996, 347, 272]\n"
     ]
    }
   ],
   "source": [
    "#Combien d’arbres ont été plantés année par année (ex : 1987 : 771, 1988 :\n",
    "#266, etc…) ?\n",
    "liste_annees = list(range(min_annee_recensee, max_annee_recensee +1))\n",
    "print(liste_annees)\n",
    "index_shifter = 1950\n",
    "\n",
    "#première méthode\n",
    "liste_arbres = [0 for _ in liste_annees]\n",
    "for annee in liste_annee_plantation:\n",
    "    liste_arbres[int(annee) - 1950] += 1\n",
    "print(liste_arbres)\n",
    "#seconde methode\n",
    "liste_arbres = [0 for _ in liste_annees]\n",
    "for annee in liste_annees:\n",
    "    liste_arbres[int(annee) - 1950] = liste_annee_plantation.count(str(annee))\n",
    "print(liste_arbres)"
   ]
  },
  {
   "cell_type": "code",
   "execution_count": 10,
   "id": "e49655b2-3f0b-49d2-a6ee-7b325247610b",
   "metadata": {},
   "outputs": [
    {
     "name": "stdout",
     "output_type": "stream",
     "text": [
      "annee : 1950, nombre d'arbres : 422\n",
      "annee : 1951, nombre d'arbres : 0\n",
      "annee : 1952, nombre d'arbres : 0\n",
      "annee : 1953, nombre d'arbres : 0\n",
      "annee : 1954, nombre d'arbres : 0\n",
      "annee : 1955, nombre d'arbres : 66\n",
      "annee : 1956, nombre d'arbres : 0\n",
      "annee : 1957, nombre d'arbres : 0\n",
      "annee : 1958, nombre d'arbres : 0\n",
      "annee : 1959, nombre d'arbres : 0\n",
      "annee : 1960, nombre d'arbres : 745\n",
      "annee : 1961, nombre d'arbres : 27\n",
      "annee : 1962, nombre d'arbres : 0\n",
      "annee : 1963, nombre d'arbres : 0\n",
      "annee : 1964, nombre d'arbres : 7\n",
      "annee : 1965, nombre d'arbres : 760\n",
      "annee : 1966, nombre d'arbres : 95\n",
      "annee : 1967, nombre d'arbres : 57\n",
      "annee : 1968, nombre d'arbres : 116\n",
      "annee : 1969, nombre d'arbres : 350\n",
      "annee : 1970, nombre d'arbres : 1444\n",
      "annee : 1971, nombre d'arbres : 75\n",
      "annee : 1972, nombre d'arbres : 364\n",
      "annee : 1973, nombre d'arbres : 34\n",
      "annee : 1974, nombre d'arbres : 350\n",
      "annee : 1975, nombre d'arbres : 3922\n",
      "annee : 1976, nombre d'arbres : 972\n",
      "annee : 1977, nombre d'arbres : 616\n",
      "annee : 1978, nombre d'arbres : 912\n",
      "annee : 1979, nombre d'arbres : 361\n",
      "annee : 1980, nombre d'arbres : 1528\n",
      "annee : 1981, nombre d'arbres : 644\n",
      "annee : 1982, nombre d'arbres : 448\n",
      "annee : 1983, nombre d'arbres : 333\n",
      "annee : 1984, nombre d'arbres : 666\n",
      "annee : 1985, nombre d'arbres : 990\n",
      "annee : 1986, nombre d'arbres : 238\n",
      "annee : 1987, nombre d'arbres : 771\n",
      "annee : 1988, nombre d'arbres : 266\n",
      "annee : 1989, nombre d'arbres : 307\n",
      "annee : 1990, nombre d'arbres : 433\n",
      "annee : 1991, nombre d'arbres : 146\n",
      "annee : 1992, nombre d'arbres : 226\n",
      "annee : 1993, nombre d'arbres : 161\n",
      "annee : 1994, nombre d'arbres : 288\n",
      "annee : 1995, nombre d'arbres : 781\n",
      "annee : 1996, nombre d'arbres : 385\n",
      "annee : 1997, nombre d'arbres : 238\n",
      "annee : 1998, nombre d'arbres : 220\n",
      "annee : 1999, nombre d'arbres : 603\n",
      "annee : 2000, nombre d'arbres : 461\n",
      "annee : 2001, nombre d'arbres : 1626\n",
      "annee : 2002, nombre d'arbres : 341\n",
      "annee : 2003, nombre d'arbres : 352\n",
      "annee : 2004, nombre d'arbres : 352\n",
      "annee : 2005, nombre d'arbres : 450\n",
      "annee : 2006, nombre d'arbres : 616\n",
      "annee : 2007, nombre d'arbres : 155\n",
      "annee : 2008, nombre d'arbres : 219\n",
      "annee : 2009, nombre d'arbres : 696\n",
      "annee : 2010, nombre d'arbres : 467\n",
      "annee : 2011, nombre d'arbres : 530\n",
      "annee : 2012, nombre d'arbres : 338\n",
      "annee : 2013, nombre d'arbres : 335\n",
      "annee : 2014, nombre d'arbres : 881\n",
      "annee : 2015, nombre d'arbres : 996\n",
      "annee : 2016, nombre d'arbres : 347\n",
      "annee : 2017, nombre d'arbres : 272\n",
      "Moyenne 452.95588235294116\n"
     ]
    }
   ],
   "source": [
    "#Combien d’arbres ont été plantés année par année (ex : 1987 : 771, 1988 : 266, etc…) ?\n",
    "\n",
    "total = 0\n",
    "for annee, nombre in zip(liste_annees, liste_arbres):\n",
    "    print(f\"annee : {annee}, nombre d'arbres : {nombre}\") \n",
    "    total += int(nombre)\n",
    "\n",
    "#Combien d’arbres ont été plantés en moyenne chaque année ?\n",
    "print(\"Moyenne\", float(total) / float(max_annee_recensee-min_annee_recensee +1))"
   ]
  },
  {
   "cell_type": "code",
   "execution_count": 11,
   "id": "191d713d-64cb-42fe-8777-03a96da9980b",
   "metadata": {},
   "outputs": [
    {
     "name": "stdout",
     "output_type": "stream",
     "text": [
      "[('1950', 422), ('1951', 0), ('1952', 0), ('1953', 0), ('1954', 0), ('1955', 66), ('1956', 0), ('1957', 0), ('1958', 0), ('1959', 0), ('1960', 745), ('1961', 27), ('1962', 0), ('1963', 0), ('1964', 7), ('1965', 760), ('1966', 95), ('1967', 57), ('1968', 116), ('1969', 350), ('1970', 1444), ('1971', 75), ('1972', 364), ('1973', 34), ('1974', 350), ('1975', 3922), ('1976', 972), ('1977', 616), ('1978', 912), ('1979', 361), ('1980', 1528), ('1981', 644), ('1982', 448), ('1983', 333), ('1984', 666), ('1985', 990), ('1986', 238), ('1987', 771), ('1988', 266), ('1989', 307), ('1990', 433), ('1991', 146), ('1992', 226), ('1993', 161), ('1994', 288), ('1995', 781), ('1996', 385), ('1997', 238), ('1998', 220), ('1999', 603), ('2000', 461), ('2001', 1626), ('2002', 341), ('2003', 352), ('2004', 352), ('2005', 450), ('2006', 616), ('2007', 155), ('2008', 219), ('2009', 696), ('2010', 467), ('2011', 530), ('2012', 338), ('2013', 335), ('2014', 881), ('2015', 996), ('2016', 347), ('2017', 272)]\n"
     ]
    }
   ],
   "source": [
    "#Stocker conjointement l’année de plantation et le nombre d’arbres plantés\n",
    "#dans un tuple. Les tuples seront stockés dans une liste (ex : [ (‘1987’, 771),\n",
    "#(‘1988’, 266), ….. ] )\n",
    "liste_annee_nombre = []\n",
    "for annee, nombre in zip(liste_annees, liste_arbres):\n",
    "    tuple_ninja = tuple((str(annee), int(nombre)))\n",
    "    liste_annee_nombre.append(tuple_ninja)\n",
    "print(liste_annee_nombre)"
   ]
  },
  {
   "cell_type": "code",
   "execution_count": 12,
   "id": "441939d3-c6ab-4058-8fea-df27bf543b31",
   "metadata": {},
   "outputs": [
    {
     "name": "stdout",
     "output_type": "stream",
     "text": [
      "Nom du maire : Charles Rivail, Debut mandat : 1904, Fin mandat : 1908\n",
      "Nom du maire : Félix Viallet, Debut mandat : 1908, Fin mandat : 1910\n",
      "Nom du maire : Nestor Cornier, Debut mandat : 1910, Fin mandat : 1919\n",
      "Nom du maire : Paul Mistral, Debut mandat : 1919, Fin mandat : 1932\n",
      "Nom du maire : Léon Martin, Debut mandat : 1932, Fin mandat : 1935\n",
      "Nom du maire : Paul Cocat, Debut mandat : 1935, Fin mandat : 1944\n",
      "Nom du maire : Frédéric Lafleur, Debut mandat : 1944, Fin mandat : 1945\n",
      "Nom du maire : Léon Martin, Debut mandat : 1945, Fin mandat : 1947\n",
      "Nom du maire : Marius Bally, Debut mandat : 1947, Fin mandat : 1948\n",
      "Nom du maire : Raymond Perinetti, Debut mandat : 1948, Fin mandat : 1949\n",
      "Nom du maire : Léon Martin, Debut mandat : 1949, Fin mandat : 1959\n",
      "Nom du maire : Albert Michallon, Debut mandat : 1959, Fin mandat : 1965\n",
      "Nom du maire : Hubert Dubedout, Debut mandat : 1965, Fin mandat : 1983\n",
      "Nom du maire : Alain Carignon Pierre Gascon (fin de mandature par interim), Debut mandat : 1983, Fin mandat : 1995\n",
      "Nom du maire : Michel Destot, Debut mandat : 1995, Fin mandat : 2014\n",
      "Nom du maire : Éric Piolle, Debut mandat : 2014, Fin mandat : cours\n",
      "[{'Maire': 'Charles Rivail', 'debut': 1904, 'fin': 1908, 'arbres': 0}, {'Maire': 'Félix Viallet', 'debut': 1908, 'fin': 1910, 'arbres': 0}, {'Maire': 'Nestor Cornier', 'debut': 1910, 'fin': 1919, 'arbres': 0}, {'Maire': 'Paul Mistral', 'debut': 1919, 'fin': 1932, 'arbres': 0}, {'Maire': 'Léon Martin', 'debut': 1932, 'fin': 1935, 'arbres': 0}, {'Maire': 'Paul Cocat', 'debut': 1935, 'fin': 1944, 'arbres': 0}, {'Maire': 'Frédéric Lafleur', 'debut': 1944, 'fin': 1945, 'arbres': 0}, {'Maire': 'Léon Martin', 'debut': 1945, 'fin': 1947, 'arbres': 0}, {'Maire': 'Marius Bally', 'debut': 1947, 'fin': 1948, 'arbres': 0}, {'Maire': 'Raymond Perinetti', 'debut': 1948, 'fin': 1949, 'arbres': 0}, {'Maire': 'Léon Martin', 'debut': 1949, 'fin': 1959, 'arbres': 0}, {'Maire': 'Albert Michallon', 'debut': 1959, 'fin': 1965, 'arbres': 0}, {'Maire': 'Hubert Dubedout', 'debut': 1965, 'fin': 1983, 'arbres': 0}, {'Maire': 'Alain Carignon Pierre Gascon (fin de mandature par interim)', 'debut': 1983, 'fin': 1995, 'arbres': 0}, {'Maire': 'Michel Destot', 'debut': 1995, 'fin': 2014, 'arbres': 0}, {'Maire': 'Éric Piolle', 'debut': 2014, 'fin': 2023, 'arbres': 0}]\n"
     ]
    }
   ],
   "source": [
    "import requests\n",
    "from bs4 import BeautifulSoup\n",
    "from datetime import datetime\n",
    "\n",
    "url = \"https://fr.wikipedia.org/wiki/Liste_des_maires_de_Grenoble\"\n",
    "response = requests.get(url)\n",
    "soup = BeautifulSoup(response.content, 'html.parser')\n",
    "\n",
    "liste_maires = []\n",
    "\n",
    "table = soup.find('table', {'class': 'wikitable'})\n",
    "rows = table.find_all('tr')[1:]  # Commencer à partir de la deuxième ligne (en excluant l'en-tête)\n",
    "\n",
    "for row in rows:\n",
    "    cols = row.find_all(['th', 'td'])\n",
    "    if len(cols) >= 2:  # S'assurer qu'il y a suffisamment de colonnes\n",
    "        nom_maire = cols[0].text.strip()\n",
    "        debut_mandat = cols[2].text.strip()\n",
    "        fin_mandat = cols[3].text.strip()\n",
    "        liste_maires.append((nom_maire, debut_mandat, fin_mandat))\n",
    "\n",
    "for maire in liste_maires:\n",
    "    print(f\"Nom du maire : {maire[0]}, Debut mandat : {maire[1].split()[-1]}, Fin mandat : {maire[2].split()[-1]}\")\n",
    "\n",
    "# Obtenez la date actuelle\n",
    "date_actuelle = datetime.now()\n",
    "\n",
    "# Obtenez l'année à partir de la date actuelle\n",
    "annee_en_cours = date_actuelle.year\n",
    "\n",
    "liste_maires[-1] = list(liste_maires[-1])\n",
    "liste_maires[-1][-1] = str(annee_en_cours)\n",
    "liste_maire_annee_propre = [{\"Maire\": maire[0], \"debut\": int(maire[1].split()[-1]), \"fin\": int(maire[2].split()[-1]), \"arbres\": 0} for maire in liste_maires]\n",
    "\n",
    "print(liste_maire_annee_propre)"
   ]
  },
  {
   "cell_type": "code",
   "execution_count": 13,
   "id": "cfe64171-c741-4c20-9f43-ea6e8791dded",
   "metadata": {},
   "outputs": [
    {
     "name": "stdout",
     "output_type": "stream",
     "text": [
      "[{'Maire': 'Charles Rivail', 'debut': 1904, 'fin': 1908, 'arbres': 0}, {'Maire': 'Félix Viallet', 'debut': 1908, 'fin': 1910, 'arbres': 0}, {'Maire': 'Nestor Cornier', 'debut': 1910, 'fin': 1919, 'arbres': 0}, {'Maire': 'Paul Mistral', 'debut': 1919, 'fin': 1932, 'arbres': 0}, {'Maire': 'Léon Martin', 'debut': 1932, 'fin': 1935, 'arbres': 0}, {'Maire': 'Paul Cocat', 'debut': 1935, 'fin': 1944, 'arbres': 0}, {'Maire': 'Frédéric Lafleur', 'debut': 1944, 'fin': 1945, 'arbres': 0}, {'Maire': 'Léon Martin', 'debut': 1945, 'fin': 1947, 'arbres': 0}, {'Maire': 'Marius Bally', 'debut': 1947, 'fin': 1948, 'arbres': 0}, {'Maire': 'Raymond Perinetti', 'debut': 1948, 'fin': 1949, 'arbres': 0}, {'Maire': 'Léon Martin', 'debut': 1949, 'fin': 1959, 'arbres': 488}, {'Maire': 'Albert Michallon', 'debut': 1959, 'fin': 1965, 'arbres': 779}, {'Maire': 'Hubert Dubedout', 'debut': 1965, 'fin': 1983, 'arbres': 13048}, {'Maire': 'Alain Carignon Pierre Gascon (fin de mandature par interim)', 'debut': 1983, 'fin': 1995, 'arbres': 4825}, {'Maire': 'Michel Destot', 'debut': 1995, 'fin': 2014, 'arbres': 9165}, {'Maire': 'Éric Piolle', 'debut': 2014, 'fin': 2023, 'arbres': 2496}]\n"
     ]
    }
   ],
   "source": [
    "def attribute_arbre_to_maire(liste_maire, liste_annee_nombre):\n",
    "    for maire in liste_maire:\n",
    "        for annee in range(maire[\"debut\"],maire[\"fin\"]):\n",
    "            if (annee >= min_annee_recensee and annee <= max_annee_recensee):\n",
    "                maire[\"arbres\"] += liste_arbres[annee - 1950]\n",
    "\n",
    "attribute_arbre_to_maire(liste_maire_annee_propre, liste_annee_nombre)\n",
    "print(liste_maire_annee_propre)"
   ]
  },
  {
   "cell_type": "code",
   "execution_count": 14,
   "id": "0d1a6b2a-ffb5-4887-9a05-4941af28188b",
   "metadata": {},
   "outputs": [
    {
     "name": "stdout",
     "output_type": "stream",
     "text": [
      "A planté le plus d'arbre :  Hubert Dubedout  avec :  13048  arbres\n"
     ]
    }
   ],
   "source": [
    "#Quel Maire a planté le plus d’arbres à Grenoble ?\n",
    "# Fonction pour extraire la valeur de 'arbres' d'un dictionnaire\n",
    "def get_arbres(dictionnaire):\n",
    "    return dictionnaire['arbres']\n",
    "\n",
    "# Trouver l'élément avec le maximum d'arbres\n",
    "element_max_arbres = max(liste_maire_annee_propre, key=get_arbres)\n",
    "\n",
    "print(\"A planté le plus d'arbre : \", element_max_arbres[\"Maire\"], \" avec : \", element_max_arbres[\"arbres\"], \" arbres\")"
   ]
  },
  {
   "cell_type": "code",
   "execution_count": 65,
   "id": "5d202cec-451c-4e6a-8e1f-3ab719bcc231",
   "metadata": {},
   "outputs": [
    {
     "name": "stdout",
     "output_type": "stream",
     "text": [
      "indice colonne information genre botanique de planatation :  13\n",
      "indice colonne information année de planatation :  19\n",
      "hello\n",
      "[('1970', 'Picea'), ('1970', 'Populus'), ('1970', 'Acer'), ('1970', 'Sophora'), ('1970', 'Pinus'), ('1970', 'Robinia'), ('1970', 'Ginkgo'), ('1970', 'Fagus'), ('1970', 'Acer'), ('1970', 'Acer'), ('2011', 'Acer'), ('1970', 'Ginkgo'), ('1970', 'Robinia'), ('2011', 'Sorbus'), ('1970', 'Acer'), ('1970', 'Acer'), ('1970', 'Populus'), ('1970', 'Liquidambar'), ('1970', 'Acer'), ('2006', 'Tilia'), ('2009', 'Celtis'), ('2009', 'Celtis'), ('2009', 'Acer'), ('1970', 'Pinus'), ('1970', 'Pinus'), ('2006', 'Tilia'), ('1970', 'Thuja'), ('2009', 'Prunus'), ('1970', 'Picea'), ('2006', 'Tilia')]\n",
      "[('1970', 'Acer'), ('1970', 'Cedrus'), ('2009', 'Liriodendron'), ('1970', 'Acer'), ('1970', 'Pinus'), ('1970', 'Populus'), ('2009', 'Celtis'), ('1970', 'Cedrus'), ('1970', 'Acer'), ('2006', 'Tilia'), ('2006', 'Tilia'), ('1970', 'Picea'), ('2009', 'Celtis'), ('1970', 'Picea'), ('2009', 'Celtis'), ('1970', 'Populus'), ('2006', 'Celtis'), ('1970', 'Acer'), ('1970', 'Thuja'), ('2011', 'Sorbus'), ('1970', 'Picea'), ('1970', 'Populus'), ('1970', 'Acer'), ('1970', 'Sophora'), ('1970', 'Pinus'), ('1970', 'Robinia'), ('1970', 'Ginkgo'), ('1970', 'Fagus'), ('1970', 'Acer'), ('1970', 'Acer')]\n",
      "78\n"
     ]
    }
   ],
   "source": [
    "#Récupérez maintenant l’information concernant le genre botanique et la\n",
    "#stocker conjointement avec l’année de plantation dans un tuple. Les tuples\n",
    "#seront stockés dans une liste (ex : [ (‘1987’, ‘Acer), (‘1988’, ‘Acerifolia), ….. ])\n",
    "\n",
    "#Trouver indice de la colonne avec cette information\n",
    "with open(\"../data/trees.csv\",'r') as fichier_csv:\n",
    "    lecteur_csv = csv.reader(fichier_csv)\n",
    "\n",
    "    premiere_ligne =  next(lecteur_csv)\n",
    "    indice_colonne_bota = premiere_ligne.index('GENRE_BOTA')\n",
    "    print(\"indice colonne information genre botanique de planatation : \",indice_colonne_bota)\n",
    "\n",
    "    indice_colonne_annee = premiere_ligne.index('ANNEEDEPLANTATION')\n",
    "    print(\"indice colonne information année de planatation : \",indice_colonne_annee)\n",
    "\n",
    "liste_plantation_annee_bota = [(ligne[indice_colonne_annee], ligne[indice_colonne_bota]) for ligne in liste_fichier[1:]]\n",
    "\n",
    "liste_plantation_annee_bota_propre = [arbre for arbre in liste_plantation_annee_bota if arbre[1]]\n",
    "\n",
    "\n",
    "if(not liste_plantation_annee_bota[0][1]):\n",
    "    print(\"hello\")\n",
    "\n",
    "print(liste_plantation_annee_bota_propre[120:150])\n",
    "\n",
    "list_plantation_annee_propre_bota = [arbre for arbre in liste_plantation_annee_bota if arbre[0]]\n",
    "print(list_plantation_annee_propre_bota[120:150])\n",
    "\n",
    "liste_bota_dirty = [ligne[indice_colonne_bota] for ligne in liste_fichier[1:]]\n",
    "nombre_dirty = liste_bota_dirty.count(\"\")\n",
    "print(nombre_dirty)"
   ]
  },
  {
   "cell_type": "code",
   "execution_count": 17,
   "id": "2bcf696d-cf8d-434a-a14f-d3bc10eb0a98",
   "metadata": {},
   "outputs": [
    {
     "name": "stdout",
     "output_type": "stream",
     "text": [
      "515\n"
     ]
    }
   ],
   "source": [
    "#Pour combien d'arbres manque-t-il l’information concernant le genre botanique ?\n",
    "print(len(liste_plantation_annee_bota) - len(liste_plantation_annee_bota_propre))"
   ]
  },
  {
   "cell_type": "code",
   "execution_count": 24,
   "id": "693b4474-5542-410e-b660-3f8e6c0a07e5",
   "metadata": {},
   "outputs": [
    {
     "data": {
      "image/png": "[encoded data removed]",
      "text/plain": [
       "<Figure size 640x480 with 1 Axes>"
      ]
     },
     "metadata": {},
     "output_type": "display_data"
    }
   ],
   "source": [
    "#Utilisez Matplotlib pour tracer l’histogramme représentant le nombre d’arbres\n",
    "#plantés par année.\n",
    "\n",
    "import matplotlib.pyplot as plt\n",
    "\n",
    "# Exemple de données (années et valeurs)\n",
    "annees = liste_annees\n",
    "valeurs = liste_arbres\n",
    "\n",
    "# Créer un histogramme\n",
    "plt.bar(annees, valeurs)\n",
    "\n",
    "# Ajouter des labels et un titre\n",
    "plt.xlabel('Années')\n",
    "plt.ylabel('Arbres plantés')\n",
    "plt.title(\"Histogramme nombre d'arbres plantés par année\")\n",
    "\n",
    "# Afficher l'histogramme\n",
    "plt.show()\n"
   ]
  },
  {
   "cell_type": "code",
   "execution_count": null,
   "id": "7e4aeb82-78e7-4c0a-8ad8-dd8804f2e9bc",
   "metadata": {},
   "outputs": [],
   "source": []
  },
  {
   "cell_type": "code",
   "execution_count": 51,
   "id": "a7877543-2bb2-41e3-88f8-6fb670b05fbf",
   "metadata": {},
   "outputs": [
    {
     "name": "stdout",
     "output_type": "stream",
     "text": [
      "-2017\n",
      "[('2017', 'Platanus'), ('2017', 'Platanus'), ('2017', 'Platanus'), ('2017', 'Platanus'), ('2017', 'Platanus'), ('2017', 'Platanus'), ('2017', 'Platanus'), ('2017', 'Platanus'), ('2017', 'Platanus'), ('2017', 'Platanus')] [('2016', 'Pyrus'), ('2016', 'Pistacia'), ('2016', 'Pistacia'), ('2016', ''), ('2016', ''), ('2016', ''), ('2016', ''), ('2016', ''), ('2016', ''), ('2016', ''), ('2016', ''), ('2016', 'Prunus'), ('2016', 'Prunus'), ('2016', 'Abies'), ('2016', 'Mespilus'), ('2016', 'Mespilus'), ('2016', 'Prunus'), ('2016', 'Pterocarya'), ('2016', 'Pterocarya'), ('2016', 'Celtis')]\n"
     ]
    }
   ],
   "source": [
    "#Triez les tuples (année, genre_botanique) en fonction de l’année\n",
    "#de plantation par ordre décroissant\n",
    "\n",
    "def function_tri(some_tuple):\n",
    "    return -int(some_tuple[0])\n",
    "\n",
    "print(function_tri(list_plantation_annee_propre_bota[0]))\n",
    "liste_triee_arbres_par_annee_et_genre = sorted(list_plantation_annee_propre_bota, key = function_tri)\n",
    "\n",
    "print(liste_triee_arbres_par_annee_et_genre[10:20], liste_triee_arbres_par_annee_et_genre[400:420])"
   ]
  },
  {
   "cell_type": "code",
   "execution_count": null,
   "id": "9eff8c18-1a7a-4ef8-a0c9-5bf6d0403438",
   "metadata": {},
   "outputs": [],
   "source": []
  }
 ],
 "metadata": {
  "kernelspec": {
   "display_name": "Python 3 (ipykernel)",
   "language": "python",
   "name": "python3"
  },
  "language_info": {
   "codemirror_mode": {
    "name": "ipython",
    "version": 3
   },
   "file_extension": ".py",
   "mimetype": "text/x-python",
   "name": "python",
   "nbconvert_exporter": "python",
   "pygments_lexer": "ipython3",
   "version": "3.11.5"
  }
 },
 "nbformat": 4,
 "nbformat_minor": 5
}
